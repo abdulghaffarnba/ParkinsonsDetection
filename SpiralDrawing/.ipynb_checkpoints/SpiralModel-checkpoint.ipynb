{
 "cells": [
  {
   "cell_type": "code",
   "execution_count": 10,
   "id": "9f8a4821",
   "metadata": {},
   "outputs": [],
   "source": [
    "import os\n",
    "import cv2\n",
    "import numpy as np\n",
    "from skimage import feature\n",
    "import random\n",
    "from sklearn.preprocessing import LabelEncoder #to encode labels as integer\n",
    "from xgboost import XGBClassifier #classifier\n",
    "from sklearn.metrics import confusion_matrix #to get the accuracy\n",
    "from imutils import paths # to extract file path of each images\n",
    "from imutils import build_montages #to visualize\n",
    "from sklearn.metrics import accuracy_score #accuracy"
   ]
  },
  {
   "cell_type": "code",
   "execution_count": 11,
   "id": "2cd605a5",
   "metadata": {},
   "outputs": [],
   "source": [
    "# extracting features from each image input\n",
    "def imageFeatureExtraction(image):\n",
    "    image_features = feature.hog(image, orientations=9,\n",
    "    pixels_per_cell=(10, 10), cells_per_block=(2, 2),\n",
    "    transform_sqrt=True, block_norm=\"L1\")\n",
    "    return image_features"
   ]
  },
  {
   "cell_type": "code",
   "execution_count": 12,
   "id": "fcf9ffc8",
   "metadata": {},
   "outputs": [],
   "source": [
    "def transformImage(path):\n",
    "\timagePaths = list(paths.list_images(path))\n",
    "\tdata = []\n",
    "\tlabels = []\n",
    "\n",
    "\tfor imagePath in imagePaths:\n",
    "\t\tlabel = imagePath.split(os.path.sep)[-2]\n",
    "\t\timage = cv2.imread(imagePath)\n",
    "\t\timage = cv2.cvtColor(image, cv2.COLOR_BGR2GRAY)\n",
    "\t\timage = cv2.resize(image, (200, 200))\n",
    "\t\timage = cv2.threshold(image, 0, 255,\n",
    "\t\t\tcv2.THRESH_BINARY_INV | cv2.THRESH_OTSU)[1]\n",
    "\t\t\t\n",
    "\t\tfeatures = imageFeatureExtraction(image)\n",
    "\t\tdata.append(features)\n",
    "\t\tlabels.append(label)\n",
    "  \n",
    "\t#converting to numpy array\n",
    "\treturn (np.array(data), np.array(labels))"
   ]
  },
  {
   "cell_type": "code",
   "execution_count": 13,
   "id": "5e7d95a6",
   "metadata": {},
   "outputs": [],
   "source": [
    "training_path = \"D:/STUDIES/FINAL YEAR/FYP/IMPLEMENTATION/filtered/training\"\n",
    "testing_path = \"D:/STUDIES/FINAL YEAR/FYP/IMPLEMENTATION/ParkinsonsDetection/SpiralDrawing/Dataset/spiral/testing\""
   ]
  },
  {
   "cell_type": "code",
   "execution_count": 14,
   "id": "7918d97c",
   "metadata": {},
   "outputs": [],
   "source": [
    "(x_train, y_train) = transformImage(training_path)\n",
    "(x_test, y_test) = transformImage(testing_path)"
   ]
  },
  {
   "cell_type": "code",
   "execution_count": 15,
   "id": "b594021b",
   "metadata": {},
   "outputs": [],
   "source": [
    "# Label Encoder\n",
    "label_encode = LabelEncoder()\n",
    "y_train = label_encode.fit_transform(y_train)\n",
    "y_test = label_encode.transform(y_test)"
   ]
  },
  {
   "cell_type": "code",
   "execution_count": 16,
   "id": "9e197ac9",
   "metadata": {},
   "outputs": [
    {
     "name": "stderr",
     "output_type": "stream",
     "text": [
      "C:\\Users\\Abdul Ghaffar\\AppData\\Local\\Programs\\Python\\Python310\\lib\\site-packages\\xgboost\\sklearn.py:1224: UserWarning: The use of label encoder in XGBClassifier is deprecated and will be removed in a future release. To remove this warning, do the following: 1) Pass option use_label_encoder=False when constructing XGBClassifier object; and 2) Encode your labels (y) as integers starting with 0, i.e. 0, 1, 2, ..., [num_class - 1].\n",
      "  warnings.warn(label_encoder_deprecation_msg, UserWarning)\n"
     ]
    },
    {
     "name": "stdout",
     "output_type": "stream",
     "text": [
      "[01:25:56] WARNING: C:/Users/Administrator/workspace/xgboost-win64_release_1.5.1/src/learner.cc:1115: Starting in XGBoost 1.3.0, the default evaluation metric used with the objective 'binary:logistic' was changed from 'error' to 'logloss'. Explicitly set eval_metric if you'd like to restore the old behavior.\n"
     ]
    },
    {
     "data": {
      "text/plain": [
       "XGBClassifier(base_score=0.5, booster='gbtree', colsample_bylevel=1,\n",
       "              colsample_bynode=1, colsample_bytree=1, enable_categorical=False,\n",
       "              gamma=0, gpu_id=-1, importance_type=None,\n",
       "              interaction_constraints='', learning_rate=0.300000012,\n",
       "              max_delta_step=0, max_depth=6, min_child_weight=1, missing=nan,\n",
       "              monotone_constraints='()', n_estimators=100, n_jobs=8,\n",
       "              num_parallel_tree=1, predictor='auto', random_state=0,\n",
       "              reg_alpha=0, reg_lambda=1, scale_pos_weight=1, subsample=1,\n",
       "              tree_method='exact', validate_parameters=1, verbosity=None)"
      ]
     },
     "execution_count": 16,
     "metadata": {},
     "output_type": "execute_result"
    }
   ],
   "source": [
    "# initialization of the model\n",
    "model = XGBClassifier()\n",
    "model.fit(x_train, y_train)"
   ]
  },
  {
   "cell_type": "code",
   "execution_count": 60,
   "id": "569e6465",
   "metadata": {},
   "outputs": [
    {
     "name": "stdout",
     "output_type": "stream",
     "text": [
      "[1 1 1 0 0 0 0 0 0 0 0 0 0 0 0 0 1 1 1 1 0 1 1 1 1 0 1 1 1 1]\n"
     ]
    }
   ],
   "source": [
    "#Predicting from testing data\n",
    "test_prediction = model.predict(x_test)\n",
    "print(test_prediction)"
   ]
  },
  {
   "cell_type": "code",
   "execution_count": 61,
   "id": "80b6fc26",
   "metadata": {},
   "outputs": [
    {
     "name": "stdout",
     "output_type": "stream",
     "text": [
      "80.0\n"
     ]
    }
   ],
   "source": [
    "#Calculating the accuracy from testing data\n",
    "test_accuracy = accuracy_score(y_test, test_prediction)*100\n",
    "print(test_accuracy)"
   ]
  },
  {
   "cell_type": "code",
   "execution_count": 62,
   "id": "447b1248",
   "metadata": {},
   "outputs": [
    {
     "name": "stdout",
     "output_type": "stream",
     "text": [
      "[0 0 0 ... 1 1 1]\n"
     ]
    }
   ],
   "source": [
    "#Predicting from training data\n",
    "train_prediction = model.predict(x_train)\n",
    "print(train_prediction)"
   ]
  },
  {
   "cell_type": "code",
   "execution_count": 63,
   "id": "f9955034",
   "metadata": {},
   "outputs": [
    {
     "name": "stdout",
     "output_type": "stream",
     "text": [
      "100.0\n"
     ]
    }
   ],
   "source": [
    "#Calculating the accuracy from training data\n",
    "train_accuracy = accuracy_score(y_train, train_prediction)*100\n",
    "print(train_accuracy)"
   ]
  },
  {
   "cell_type": "code",
   "execution_count": 66,
   "id": "b57f3813",
   "metadata": {},
   "outputs": [
    {
     "name": "stdout",
     "output_type": "stream",
     "text": [
      "12 3 3 12\n",
      "80.0\n"
     ]
    }
   ],
   "source": [
    "cm = confusion_matrix(y_test, test_prediction).ravel()\n",
    "tn, fp, fn, tp = cm\n",
    "print(tn, fp, fn, tp)\n",
    "# accuracy = (tp + tn) / float(cm.sum())\n",
    "sensitivity = tp / float(tp + fn)\n",
    "specificity = tn / float(tn + fp)\n",
    "overallAccuracy = (tp+tn)/(tp+fp+fn+tn)\n",
    "print(overallAccuracy*100)"
   ]
  },
  {
   "cell_type": "code",
   "execution_count": 54,
   "id": "da3e0850",
   "metadata": {},
   "outputs": [],
   "source": [
    "import matplotlib.pyplot as plt\n",
    "%matplotlib inline\n",
    "\n",
    "def test_prediction(model, testingPath):\n",
    "    image = cv2.imread(testingPath)\n",
    "    output = image.copy()\n",
    "    output = cv2.resize(output, (128, 128))\n",
    "    # pre-process the image\n",
    "    image = cv2.cvtColor(image, cv2.COLOR_BGR2GRAY)\n",
    "    image = cv2.resize(image, (200, 200))\n",
    "    image = cv2.threshold(image, 0, 255,\n",
    "                          cv2.THRESH_BINARY_INV | cv2.THRESH_OTSU)[1]\n",
    "    # extracting features\n",
    "    features = imageFeatureExtraction(image)\n",
    "    preds = model.predict([features])\n",
    "    label = \"Parkinsons\" if preds[0] else \"Healthy\"\n",
    "    return label\n"
   ]
  },
  {
   "cell_type": "code",
   "execution_count": 59,
   "id": "5ccdbf32",
   "metadata": {},
   "outputs": [
    {
     "data": {
      "text/plain": [
       "'Healthy'"
      ]
     },
     "execution_count": 59,
     "metadata": {},
     "output_type": "execute_result"
    }
   ],
   "source": [
    "test_prediction(model, \"D:/STUDIES/FINAL YEAR/FYP/IMPLEMENTATION/testing_healthy.png\")"
   ]
  },
  {
   "cell_type": "code",
   "execution_count": null,
   "id": "d87676d1",
   "metadata": {},
   "outputs": [],
   "source": [
    "# Saving the model\n",
    "import pickle\n",
    "\n",
    "model_Filename = \"SpiralModel.pkl\"  \n",
    "\n",
    "with open(model_Filename, 'wb') as file:  \n",
    "    pickle.dump(model, file)"
   ]
  }
 ],
 "metadata": {
  "kernelspec": {
   "display_name": "Python 3",
   "language": "python",
   "name": "python3"
  },
  "language_info": {
   "codemirror_mode": {
    "name": "ipython",
    "version": 3
   },
   "file_extension": ".py",
   "mimetype": "text/x-python",
   "name": "python",
   "nbconvert_exporter": "python",
   "pygments_lexer": "ipython3",
   "version": "3.10.2"
  }
 },
 "nbformat": 4,
 "nbformat_minor": 5
}
