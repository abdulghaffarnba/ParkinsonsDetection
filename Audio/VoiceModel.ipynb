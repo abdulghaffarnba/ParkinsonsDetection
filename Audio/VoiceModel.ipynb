{
 "cells": [
  {
   "cell_type": "code",
   "execution_count": 9,
   "id": "7b045766",
   "metadata": {},
   "outputs": [],
   "source": [
    "import pandas as pd\n",
    "import numpy as np\n",
    "import sklearn \n",
    "from xgboost import XGBClassifier #algorithm\n",
    "from sklearn.metrics import accuracy_score\n",
    "from sklearn.model_selection import train_test_split\n",
    "from sklearn.preprocessing import MinMaxScaler"
   ]
  },
  {
   "cell_type": "code",
   "execution_count": 10,
   "id": "07fdf012",
   "metadata": {},
   "outputs": [],
   "source": [
    "#loading the dataset\n",
    "columns = ['MDVP:Jitter(%)', 'MDVP:Jitter(Abs)', 'MDVP:RAP', 'MDVP:PPQ', 'Jitter:DDP', 'MDVP:Shimmer', 'MDVP:Shimmer(dB)', 'Shimmer:APQ3', 'Shimmer:APQ5', 'Shimmer:DDA', 'HNR']\n",
    "dataset = pd.read_csv('D:\\STUDIES\\FINAL YEAR\\FYP\\IMPLEMENTATION\\ParkinsonsDetection\\Audio\\Dataset\\parkinsons.csv')"
   ]
  },
  {
   "cell_type": "code",
   "execution_count": 11,
   "id": "737d1923",
   "metadata": {},
   "outputs": [
    {
     "data": {
      "text/plain": [
       "array([[ 0.00784,  0.00007,  0.0037 , ...,  0.0313 ,  0.06545, 21.033  ],\n",
       "       [ 0.00968,  0.00008,  0.00465, ...,  0.04518,  0.09403, 19.085  ],\n",
       "       [ 0.0105 ,  0.00009,  0.00544, ...,  0.03858,  0.0827 , 20.651  ],\n",
       "       ...,\n",
       "       [ 0.0136 ,  0.00008,  0.00624, ...,  0.01365,  0.03804, 17.883  ],\n",
       "       [ 0.0074 ,  0.00004,  0.0037 , ...,  0.01321,  0.03794, 19.02   ],\n",
       "       [ 0.00567,  0.00003,  0.00295, ...,  0.01161,  0.03078, 21.209  ]])"
      ]
     },
     "execution_count": 11,
     "metadata": {},
     "output_type": "execute_result"
    }
   ],
   "source": [
    "#Getting the list of features and the label\n",
    "np.set_printoptions(suppress=True)\n",
    "features = dataset.loc[:,columns].values\n",
    "label = dataset.loc[:,'status'].values\n",
    "features"
   ]
  },
  {
   "cell_type": "code",
   "execution_count": 12,
   "id": "026126a8",
   "metadata": {},
   "outputs": [],
   "source": [
    "#scaling the features\n",
    "scale = MinMaxScaler((-1,1))\n",
    "x_data = scale.fit_transform(features)\n",
    "y_data = label"
   ]
  },
  {
   "cell_type": "code",
   "execution_count": 13,
   "id": "a9cc14f2",
   "metadata": {},
   "outputs": [],
   "source": [
    "#spliting the dataset as 20% for testing and rest for training\n",
    "x_train,x_test,y_train,y_test = train_test_split(x_data, y_data, test_size = 0.2, random_state = 7)"
   ]
  },
  {
   "cell_type": "code",
   "execution_count": 14,
   "id": "933d5e8e",
   "metadata": {},
   "outputs": [
    {
     "name": "stderr",
     "output_type": "stream",
     "text": [
      "C:\\Users\\Abdul Ghaffar\\AppData\\Local\\Programs\\Python\\Python310\\lib\\site-packages\\xgboost\\sklearn.py:1224: UserWarning: The use of label encoder in XGBClassifier is deprecated and will be removed in a future release. To remove this warning, do the following: 1) Pass option use_label_encoder=False when constructing XGBClassifier object; and 2) Encode your labels (y) as integers starting with 0, i.e. 0, 1, 2, ..., [num_class - 1].\n",
      "  warnings.warn(label_encoder_deprecation_msg, UserWarning)\n"
     ]
    },
    {
     "name": "stdout",
     "output_type": "stream",
     "text": [
      "[18:48:43] WARNING: C:/Users/Administrator/workspace/xgboost-win64_release_1.5.1/src/learner.cc:1115: Starting in XGBoost 1.3.0, the default evaluation metric used with the objective 'binary:logistic' was changed from 'error' to 'logloss'. Explicitly set eval_metric if you'd like to restore the old behavior.\n"
     ]
    },
    {
     "data": {
      "text/plain": [
       "XGBClassifier(base_score=0.5, booster='gbtree', colsample_bylevel=1,\n",
       "              colsample_bynode=1, colsample_bytree=1, enable_categorical=False,\n",
       "              gamma=0, gpu_id=-1, importance_type=None,\n",
       "              interaction_constraints='', learning_rate=0.300000012,\n",
       "              max_delta_step=0, max_depth=6, min_child_weight=1, missing=nan,\n",
       "              monotone_constraints='()', n_estimators=100, n_jobs=8,\n",
       "              num_parallel_tree=1, predictor='auto', random_state=0,\n",
       "              reg_alpha=0, reg_lambda=1, scale_pos_weight=1, subsample=1,\n",
       "              tree_method='exact', validate_parameters=1, verbosity=None)"
      ]
     },
     "execution_count": 14,
     "metadata": {},
     "output_type": "execute_result"
    }
   ],
   "source": [
    "#Training the model\n",
    "model = XGBClassifier()\n",
    "model.fit(x_train,y_train)"
   ]
  },
  {
   "cell_type": "code",
   "execution_count": 22,
   "id": "bbcf78b1",
   "metadata": {},
   "outputs": [
    {
     "name": "stdout",
     "output_type": "stream",
     "text": [
      "[1 1 1 1 1 1 0 1 1 1 0 1 1 0 1 1 1 0 0 1 1 1 1 1 1 0 0 1 1 1 1 1 1 1 1 1 1\n",
      " 0 1]\n"
     ]
    }
   ],
   "source": [
    "#Predicting from testing data\n",
    "test_prediction = model.predict(x_test)\n",
    "print(test_prediction)"
   ]
  },
  {
   "cell_type": "code",
   "execution_count": 23,
   "id": "1cc32ceb",
   "metadata": {},
   "outputs": [
    {
     "name": "stdout",
     "output_type": "stream",
     "text": [
      "87.17948717948718\n"
     ]
    }
   ],
   "source": [
    "#Calculating the accuracy from testing data\n",
    "test_accuracy = accuracy_score(y_test, test_prediction)*100\n",
    "print(test_accuracy)"
   ]
  },
  {
   "cell_type": "code",
   "execution_count": 24,
   "id": "fc73af94",
   "metadata": {},
   "outputs": [
    {
     "name": "stdout",
     "output_type": "stream",
     "text": [
      "[1 1 1 0 1 0 1 1 0 1 1 1 0 1 1 1 1 0 1 0 0 1 1 0 0 0 1 1 1 1 1 1 1 1 1 0 1\n",
      " 1 1 1 0 1 0 0 1 1 1 0 0 1 1 0 1 1 1 1 1 1 1 1 1 1 1 1 0 1 1 1 1 1 1 0 1 0\n",
      " 1 1 1 0 1 1 0 1 1 1 1 1 1 1 1 0 1 1 1 1 1 1 1 0 0 0 1 1 0 1 0 1 0 1 0 0 1\n",
      " 0 1 0 1 1 1 1 1 0 1 1 1 1 1 0 1 1 1 1 0 1 1 1 1 1 0 1 1 0 1 0 1 0 1 1 1 1\n",
      " 1 0 1 1 1 1 1 0]\n"
     ]
    }
   ],
   "source": [
    "#Predicting from training data\n",
    "train_prediction = model.predict(x_train)\n",
    "print(train_prediction)"
   ]
  },
  {
   "cell_type": "code",
   "execution_count": 25,
   "id": "5359f82a",
   "metadata": {},
   "outputs": [
    {
     "name": "stdout",
     "output_type": "stream",
     "text": [
      "99.35897435897436\n"
     ]
    }
   ],
   "source": [
    "#Calculating the accuracy from training data\n",
    "train_accuracy = accuracy_score(y_train, train_prediction)*100\n",
    "print(train_accuracy)"
   ]
  },
  {
   "cell_type": "code",
   "execution_count": 29,
   "id": "7e754f6f",
   "metadata": {},
   "outputs": [
    {
     "name": "stdout",
     "output_type": "stream",
     "text": [
      "[[-0.92312579 -0.97628458 -0.90558767 -0.91854234 -0.90560283 -0.97370823\n",
      "  -0.98027938 -0.95839753 -0.97014925 -0.95827449  0.49020564]]\n",
      "[0]\n"
     ]
    }
   ],
   "source": [
    "#Predicting using data\n",
    "# np.set_printoptions(suppress=True)\n",
    "# input_data = (0.027859873599643325,0.00014763142959421684,0.012507670402502244,0.013804175733725828,0.03752301120750673,0.11691055812372304,1.1567507650966085,0.0474105869762126,0.06901175514861325,0.14223176092863782,13.292052871834889)\n",
    "input_data = (0.00289,0.00001,0.00166,0.00168,0.00498,0.01098,0.097,0.00563,0.0068,0.01689,26.775)\n",
    "\n",
    "\n",
    "#Converting the data to numpy array\n",
    "input_data_array = np.asarray(input_data)\n",
    "\n",
    "#Reshaping the array \n",
    "reshape_input_data = input_data_array.reshape(1, -1)\n",
    "\n",
    "#standardizing the input data\n",
    "standardize_input_data = scale.transform(reshape_input_data)\n",
    "print(standardize_input_data)\n",
    "\n",
    "#Predicting\n",
    "prediction = model.predict(standardize_input_data)\n",
    "print(prediction)"
   ]
  },
  {
   "cell_type": "code",
   "execution_count": null,
   "id": "93059a39",
   "metadata": {},
   "outputs": [],
   "source": []
  },
  {
   "cell_type": "code",
   "execution_count": null,
   "id": "edb55a19",
   "metadata": {},
   "outputs": [],
   "source": []
  }
 ],
 "metadata": {
  "kernelspec": {
   "display_name": "Python 3",
   "language": "python",
   "name": "python3"
  },
  "language_info": {
   "codemirror_mode": {
    "name": "ipython",
    "version": 3
   },
   "file_extension": ".py",
   "mimetype": "text/x-python",
   "name": "python",
   "nbconvert_exporter": "python",
   "pygments_lexer": "ipython3",
   "version": "3.10.2"
  }
 },
 "nbformat": 4,
 "nbformat_minor": 5
}
